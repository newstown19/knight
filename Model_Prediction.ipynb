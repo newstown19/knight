{
  "nbformat": 4,
  "nbformat_minor": 0,
  "metadata": {
    "colab": {
      "name": "Model_Prediction",
      "provenance": [],
      "collapsed_sections": [],
      "machine_shape": "hm"
    },
    "kernelspec": {
      "name": "python3",
      "display_name": "Python 3"
    },
    "accelerator": "GPU"
  },
  "cells": [
    {
      "cell_type": "code",
      "metadata": {
        "id": "fvnz1wXeDao5",
        "colab_type": "code",
        "outputId": "2bd7a7b0-1fe3-4103-9ac2-050350bcdd18",
        "colab": {
          "base_uri": "https://localhost:8080/",
          "height": 33
        }
      },
      "source": [
        "import pandas as pd\n",
        "import numpy as np \n",
        "from keras.models import Model\n",
        "from keras.layers import *\n",
        "import matplotlib.pyplot as plt"
      ],
      "execution_count": 0,
      "outputs": [
        {
          "output_type": "stream",
          "text": [
            "Using TensorFlow backend.\n"
          ],
          "name": "stderr"
        }
      ]
    },
    {
      "cell_type": "code",
      "metadata": {
        "id": "Mrw2xTZGaAa3",
        "colab_type": "code",
        "colab": {}
      },
      "source": [
        "df_ = pd.read_csv(\"drive/My Drive/knight/Data/train.csv\")"
      ],
      "execution_count": 0,
      "outputs": []
    },
    {
      "cell_type": "code",
      "metadata": {
        "id": "_ImI2z-PaSQ_",
        "colab_type": "code",
        "outputId": "2aef13b4-6bad-4313-9d6d-9e21c60f722c",
        "colab": {
          "base_uri": "https://localhost:8080/",
          "height": 497
        }
      },
      "source": [
        "df_.head(10)"
      ],
      "execution_count": 0,
      "outputs": [
        {
          "output_type": "execute_result",
          "data": {
            "text/html": [
              "<div>\n",
              "<style scoped>\n",
              "    .dataframe tbody tr th:only-of-type {\n",
              "        vertical-align: middle;\n",
              "    }\n",
              "\n",
              "    .dataframe tbody tr th {\n",
              "        vertical-align: top;\n",
              "    }\n",
              "\n",
              "    .dataframe thead th {\n",
              "        text-align: right;\n",
              "    }\n",
              "</style>\n",
              "<table border=\"1\" class=\"dataframe\">\n",
              "  <thead>\n",
              "    <tr style=\"text-align: right;\">\n",
              "      <th></th>\n",
              "      <th>user_name</th>\n",
              "      <th>country</th>\n",
              "      <th>review_title</th>\n",
              "      <th>review_description</th>\n",
              "      <th>designation</th>\n",
              "      <th>points</th>\n",
              "      <th>price</th>\n",
              "      <th>province</th>\n",
              "      <th>region_1</th>\n",
              "      <th>region_2</th>\n",
              "      <th>winery</th>\n",
              "      <th>variety</th>\n",
              "    </tr>\n",
              "  </thead>\n",
              "  <tbody>\n",
              "    <tr>\n",
              "      <th>0</th>\n",
              "      <td>NaN</td>\n",
              "      <td>Australia</td>\n",
              "      <td>Andrew Peace 2007 Peace Family Vineyard Chardo...</td>\n",
              "      <td>Classic Chardonnay aromas of apple, pear and h...</td>\n",
              "      <td>Peace Family Vineyard</td>\n",
              "      <td>83</td>\n",
              "      <td>10.0</td>\n",
              "      <td>Australia Other</td>\n",
              "      <td>South Eastern Australia</td>\n",
              "      <td>NaN</td>\n",
              "      <td>Andrew Peace</td>\n",
              "      <td>Chardonnay</td>\n",
              "    </tr>\n",
              "    <tr>\n",
              "      <th>1</th>\n",
              "      <td>@wawinereport</td>\n",
              "      <td>US</td>\n",
              "      <td>North by Northwest 2014 Red (Columbia Valley (...</td>\n",
              "      <td>This wine is near equal parts Syrah and Merlot...</td>\n",
              "      <td>NaN</td>\n",
              "      <td>89</td>\n",
              "      <td>15.0</td>\n",
              "      <td>Washington</td>\n",
              "      <td>Columbia Valley (WA)</td>\n",
              "      <td>Columbia Valley</td>\n",
              "      <td>North by Northwest</td>\n",
              "      <td>Red Blend</td>\n",
              "    </tr>\n",
              "    <tr>\n",
              "      <th>2</th>\n",
              "      <td>NaN</td>\n",
              "      <td>Italy</td>\n",
              "      <td>Renato Ratti 2007 Conca  (Barolo)</td>\n",
              "      <td>Barolo Conca opens with inky dark concentratio...</td>\n",
              "      <td>Conca</td>\n",
              "      <td>94</td>\n",
              "      <td>80.0</td>\n",
              "      <td>Piedmont</td>\n",
              "      <td>Barolo</td>\n",
              "      <td>NaN</td>\n",
              "      <td>Renato Ratti</td>\n",
              "      <td>Nebbiolo</td>\n",
              "    </tr>\n",
              "    <tr>\n",
              "      <th>3</th>\n",
              "      <td>@vossroger</td>\n",
              "      <td>France</td>\n",
              "      <td>Domaine l'Ancienne Cure 2010 L'Abbaye White (B...</td>\n",
              "      <td>It's impressive what a small addition of Sauvi...</td>\n",
              "      <td>L'Abbaye</td>\n",
              "      <td>87</td>\n",
              "      <td>22.0</td>\n",
              "      <td>Southwest France</td>\n",
              "      <td>Bergerac Sec</td>\n",
              "      <td>NaN</td>\n",
              "      <td>Domaine l'Ancienne Cure</td>\n",
              "      <td>Bordeaux-style White Blend</td>\n",
              "    </tr>\n",
              "    <tr>\n",
              "      <th>4</th>\n",
              "      <td>@vossroger</td>\n",
              "      <td>France</td>\n",
              "      <td>Château du Cèdre 2012 Le Cèdre Vintage Malbec ...</td>\n",
              "      <td>This ripe, sweet wine is rich and full of drie...</td>\n",
              "      <td>Le Cèdre Vintage</td>\n",
              "      <td>88</td>\n",
              "      <td>33.0</td>\n",
              "      <td>France Other</td>\n",
              "      <td>Vin de Liqueur</td>\n",
              "      <td>NaN</td>\n",
              "      <td>Château du Cèdre</td>\n",
              "      <td>Malbec</td>\n",
              "    </tr>\n",
              "    <tr>\n",
              "      <th>5</th>\n",
              "      <td>@wineschach</td>\n",
              "      <td>Argentina</td>\n",
              "      <td>Andean 2005 Finca La Escondida Reserva Caberne...</td>\n",
              "      <td>Strident aromas of licorice, herbs, berries an...</td>\n",
              "      <td>Finca La Escondida Reserva</td>\n",
              "      <td>85</td>\n",
              "      <td>13.0</td>\n",
              "      <td>Other</td>\n",
              "      <td>San Juan</td>\n",
              "      <td>NaN</td>\n",
              "      <td>Andean</td>\n",
              "      <td>Cabernet Sauvignon</td>\n",
              "    </tr>\n",
              "    <tr>\n",
              "      <th>6</th>\n",
              "      <td>@wawinereport</td>\n",
              "      <td>US</td>\n",
              "      <td>Gordon Estate 2012 Tradition Red (Columbia Val...</td>\n",
              "      <td>Half Syrah and half Cabernet Sauvignon, with 4...</td>\n",
              "      <td>Tradition</td>\n",
              "      <td>91</td>\n",
              "      <td>45.0</td>\n",
              "      <td>Washington</td>\n",
              "      <td>Columbia Valley (WA)</td>\n",
              "      <td>Columbia Valley</td>\n",
              "      <td>Gordon Estate</td>\n",
              "      <td>Red Blend</td>\n",
              "    </tr>\n",
              "    <tr>\n",
              "      <th>7</th>\n",
              "      <td>@vboone</td>\n",
              "      <td>US</td>\n",
              "      <td>Rock Wall 2014 Monte Rosso Reserve Zinfandel (...</td>\n",
              "      <td>High-toned red fruit stars in this wine, a nic...</td>\n",
              "      <td>Monte Rosso Reserve</td>\n",
              "      <td>90</td>\n",
              "      <td>50.0</td>\n",
              "      <td>California</td>\n",
              "      <td>Sonoma County</td>\n",
              "      <td>Sonoma</td>\n",
              "      <td>Rock Wall</td>\n",
              "      <td>Zinfandel</td>\n",
              "    </tr>\n",
              "    <tr>\n",
              "      <th>8</th>\n",
              "      <td>@paulgwine</td>\n",
              "      <td>US</td>\n",
              "      <td>Elizabeth Chambers 2014 Falcon Glen Vineyard P...</td>\n",
              "      <td>Displaying typical McMinnville AVA subtlety, t...</td>\n",
              "      <td>Falcon Glen Vineyard</td>\n",
              "      <td>91</td>\n",
              "      <td>48.0</td>\n",
              "      <td>Oregon</td>\n",
              "      <td>McMinnville</td>\n",
              "      <td>Willamette Valley</td>\n",
              "      <td>Elizabeth Chambers</td>\n",
              "      <td>Pinot Noir</td>\n",
              "    </tr>\n",
              "    <tr>\n",
              "      <th>9</th>\n",
              "      <td>@kerinokeefe</td>\n",
              "      <td>Italy</td>\n",
              "      <td>Mannucci Droandi 2009 Ceppeto Riserva  (Chiant...</td>\n",
              "      <td>This blend of Sangiovese and 10% Merlot opens ...</td>\n",
              "      <td>Ceppeto Riserva</td>\n",
              "      <td>86</td>\n",
              "      <td>31.0</td>\n",
              "      <td>Tuscany</td>\n",
              "      <td>Chianti Classico</td>\n",
              "      <td>NaN</td>\n",
              "      <td>Mannucci Droandi</td>\n",
              "      <td>Red Blend</td>\n",
              "    </tr>\n",
              "  </tbody>\n",
              "</table>\n",
              "</div>"
            ],
            "text/plain": [
              "       user_name  ...                     variety\n",
              "0            NaN  ...                  Chardonnay\n",
              "1  @wawinereport  ...                   Red Blend\n",
              "2            NaN  ...                    Nebbiolo\n",
              "3     @vossroger  ...  Bordeaux-style White Blend\n",
              "4     @vossroger  ...                      Malbec\n",
              "5    @wineschach  ...          Cabernet Sauvignon\n",
              "6  @wawinereport  ...                   Red Blend\n",
              "7        @vboone  ...                   Zinfandel\n",
              "8    @paulgwine   ...                  Pinot Noir\n",
              "9   @kerinokeefe  ...                   Red Blend\n",
              "\n",
              "[10 rows x 12 columns]"
            ]
          },
          "metadata": {
            "tags": []
          },
          "execution_count": 4
        }
      ]
    },
    {
      "cell_type": "code",
      "metadata": {
        "id": "BbzwL6ASaY0-",
        "colab_type": "code",
        "colab": {}
      },
      "source": [
        "df_feature = df_[['country'  , 'review_description','province' , 'winery' , 'variety']]"
      ],
      "execution_count": 0,
      "outputs": []
    },
    {
      "cell_type": "code",
      "metadata": {
        "id": "QmFZTaqra-ib",
        "colab_type": "code",
        "colab": {}
      },
      "source": [
        "grp = df_feature.groupby(by =['variety'] )\n"
      ],
      "execution_count": 0,
      "outputs": []
    },
    {
      "cell_type": "code",
      "metadata": {
        "id": "k65NnYZqXV54",
        "colab_type": "code",
        "colab": {}
      },
      "source": [
        "rows_with_nan = []\n",
        "for index, row in df_feature.iterrows():\n",
        "    is_nan_series = row.isnull()\n",
        "    if is_nan_series.any():\n",
        "        rows_with_nan.append(index)"
      ],
      "execution_count": 0,
      "outputs": []
    },
    {
      "cell_type": "code",
      "metadata": {
        "id": "FYshB7mXaRwl",
        "colab_type": "code",
        "outputId": "1dfe74c6-ff50-4070-d584-21dda5735b33",
        "colab": {
          "base_uri": "https://localhost:8080/",
          "height": 33
        }
      },
      "source": [
        "len(rows_with_nan)"
      ],
      "execution_count": 0,
      "outputs": [
        {
          "output_type": "execute_result",
          "data": {
            "text/plain": [
              "35"
            ]
          },
          "metadata": {
            "tags": []
          },
          "execution_count": 8
        }
      ]
    },
    {
      "cell_type": "code",
      "metadata": {
        "id": "GWSBApOQage0",
        "colab_type": "code",
        "outputId": "99537c08-415f-4cbc-b096-cf5ad3146014",
        "colab": {
          "base_uri": "https://localhost:8080/",
          "height": 342
        }
      },
      "source": [
        "# removing nan values with <UNK> token\n",
        "for i in rows_with_nan:\n",
        "  df_feature.iloc[i,3] = \"<UNK>\"\n",
        "  df_feature.iloc[i,2] = \"<UNK>\"\n",
        "  df_feature.iloc[i,4] = \"<UNK>\""
      ],
      "execution_count": 0,
      "outputs": [
        {
          "output_type": "stream",
          "text": [
            "/usr/local/lib/python3.6/dist-packages/pandas/core/indexing.py:671: SettingWithCopyWarning: \n",
            "A value is trying to be set on a copy of a slice from a DataFrame\n",
            "\n",
            "See the caveats in the documentation: https://pandas.pydata.org/pandas-docs/stable/user_guide/indexing.html#returning-a-view-versus-a-copy\n",
            "  self._setitem_with_indexer(indexer, value)\n",
            "/usr/local/lib/python3.6/dist-packages/ipykernel_launcher.py:2: SettingWithCopyWarning: \n",
            "A value is trying to be set on a copy of a slice from a DataFrame\n",
            "\n",
            "See the caveats in the documentation: https://pandas.pydata.org/pandas-docs/stable/user_guide/indexing.html#returning-a-view-versus-a-copy\n",
            "  \n",
            "/usr/local/lib/python3.6/dist-packages/ipykernel_launcher.py:3: SettingWithCopyWarning: \n",
            "A value is trying to be set on a copy of a slice from a DataFrame\n",
            "\n",
            "See the caveats in the documentation: https://pandas.pydata.org/pandas-docs/stable/user_guide/indexing.html#returning-a-view-versus-a-copy\n",
            "  This is separate from the ipykernel package so we can avoid doing imports until\n",
            "/usr/local/lib/python3.6/dist-packages/ipykernel_launcher.py:4: SettingWithCopyWarning: \n",
            "A value is trying to be set on a copy of a slice from a DataFrame\n",
            "\n",
            "See the caveats in the documentation: https://pandas.pydata.org/pandas-docs/stable/user_guide/indexing.html#returning-a-view-versus-a-copy\n",
            "  after removing the cwd from sys.path.\n"
          ],
          "name": "stderr"
        }
      ]
    },
    {
      "cell_type": "code",
      "metadata": {
        "id": "z_0EriJCbAZ7",
        "colab_type": "code",
        "outputId": "5c59b8a7-13d7-4ad8-e18f-e142866cfb58",
        "colab": {
          "base_uri": "https://localhost:8080/",
          "height": 1000
        }
      },
      "source": [
        "for name,group in (grp):\n",
        "   print (name)\n",
        "   print (group.country.unique())\n",
        "   print (group.country.nunique())\n",
        "   print(\"####\")"
      ],
      "execution_count": 0,
      "outputs": [
        {
          "output_type": "stream",
          "text": [
            "<UNK>\n",
            "[nan]\n",
            "0\n",
            "####\n",
            "Bordeaux-style Red Blend\n",
            "['France' 'US' 'Turkey' 'New Zealand' 'Argentina' 'South Africa' 'Spain'\n",
            " 'Moldova' 'Chile' 'Israel' 'Slovenia' 'Croatia' 'Australia' 'Brazil'\n",
            " 'Hungary' 'Canada' 'Austria' 'Italy' 'Mexico' 'Portugal' 'Bulgaria']\n",
            "21\n",
            "####\n",
            "Bordeaux-style White Blend\n",
            "['France' 'US' 'Argentina' 'South Africa']\n",
            "4\n",
            "####\n",
            "Cabernet Franc\n",
            "['US' 'Argentina' 'Chile' 'France' 'Canada' 'South Africa' 'Israel'\n",
            " 'Italy' 'Mexico' 'Bulgaria' 'Brazil' 'Spain' 'Hungary' 'Uruguay']\n",
            "14\n",
            "####\n",
            "Cabernet Sauvignon\n",
            "['Argentina' 'US' 'Chile' 'Israel' 'Australia' 'Brazil' 'Spain'\n",
            " 'South Africa' 'Italy' 'Romania' 'France' 'Canada' 'Bulgaria' 'Austria'\n",
            " 'Moldova' 'Portugal' 'Ukraine' 'New Zealand' 'Mexico' 'Greece' 'Turkey'\n",
            " 'Uruguay']\n",
            "22\n",
            "####\n",
            "Champagne Blend\n",
            "['France' 'US' 'Italy' 'Argentina' 'Australia' 'Spain' 'Brazil'\n",
            " 'New Zealand' 'South Africa' 'Chile' 'Austria' 'Moldova']\n",
            "12\n",
            "####\n",
            "Chardonnay\n",
            "['Australia' 'New Zealand' 'Chile' 'France' 'US' 'England' 'Argentina'\n",
            " 'Spain' 'Italy' 'South Africa' 'Austria' 'Israel' 'Lebanon' 'Greece'\n",
            " 'Portugal' 'Mexico' 'Turkey' 'Morocco' 'Canada' 'Romania' 'Ukraine'\n",
            " 'Slovenia' 'Bulgaria' 'Uruguay' 'Germany' 'Brazil' 'Moldova' 'Hungary'\n",
            " 'Peru' 'Macedonia']\n",
            "30\n",
            "####\n",
            "Gamay\n",
            "['France' 'US']\n",
            "2\n",
            "####\n",
            "Gewürztraminer\n",
            "['Chile' 'US' 'France' 'Italy' 'Germany' 'Israel' 'Portugal' 'Canada'\n",
            " 'Romania' 'New Zealand' 'Argentina' 'Austria' 'South Africa']\n",
            "13\n",
            "####\n",
            "Grüner Veltliner\n",
            "['Austria' 'US' 'New Zealand' 'Italy' 'Hungary']\n",
            "5\n",
            "####\n",
            "Malbec\n",
            "['France' 'Chile' 'Argentina' 'US' 'New Zealand' 'Uruguay' 'Bulgaria'\n",
            " 'Canada' 'Peru' 'Australia']\n",
            "10\n",
            "####\n",
            "Merlot\n",
            "['US' 'Chile' 'Italy' 'Argentina' 'France' 'Australia' 'South Africa'\n",
            " 'Israel' 'Spain' 'Brazil' 'Portugal' 'New Zealand' 'Bulgaria' 'Ukraine'\n",
            " 'Turkey' 'Greece' 'Canada' 'Romania' 'Uruguay' 'Switzerland' 'Austria'\n",
            " 'Moldova' 'Slovenia']\n",
            "23\n",
            "####\n",
            "Nebbiolo\n",
            "['Italy' 'US' 'Mexico' 'Argentina']\n",
            "4\n",
            "####\n",
            "Pinot Grigio\n",
            "['US' 'Italy' 'Romania' 'Germany' 'Australia' 'Moldova' 'Argentina'\n",
            " 'Chile' 'New Zealand' 'Slovenia' 'Bulgaria']\n",
            "11\n",
            "####\n",
            "Pinot Gris\n",
            "['New Zealand' 'US' 'France' 'Australia' 'Moldova' 'Austria' 'Romania'\n",
            " 'Germany' 'Slovenia' 'Canada' 'Argentina' 'Croatia' 'Hungary' 'Israel']\n",
            "14\n",
            "####\n",
            "Pinot Noir\n",
            "['US' 'France' 'Argentina' 'Romania' 'Slovenia' 'New Zealand' 'Australia'\n",
            " 'Germany' 'Chile' 'South Africa' 'Austria' 'Uruguay' 'Israel' 'Canada'\n",
            " 'Portugal' 'Spain' 'Brazil' 'England' 'Italy' 'Croatia' 'Switzerland'\n",
            " 'Bulgaria' 'Hungary' 'Macedonia']\n",
            "24\n",
            "####\n",
            "Portuguese Red\n",
            "['Portugal']\n",
            "1\n",
            "####\n",
            "Portuguese White\n",
            "['Portugal']\n",
            "1\n",
            "####\n",
            "Red Blend\n",
            "['US' 'Italy' 'Chile' 'Spain' 'Brazil' 'Israel' 'Argentina' 'France'\n",
            " 'Greece' 'Austria' 'Australia' 'South Africa' 'Romania' 'Uruguay'\n",
            " 'Turkey' 'Mexico' 'Lebanon' 'Georgia' 'Bulgaria' 'Canada' 'Germany'\n",
            " 'Moldova' 'Peru' 'Hungary' 'Slovenia' 'Serbia' 'Portugal' 'Croatia'\n",
            " 'Morocco' 'Cyprus' 'New Zealand']\n",
            "31\n",
            "####\n",
            "Rhône-style Red Blend\n",
            "['US' 'France' 'Australia' 'Spain' 'South Africa' 'Portugal' 'Israel'\n",
            " 'Lebanon']\n",
            "8\n",
            "####\n",
            "Riesling\n",
            "['Germany' 'France' 'US' 'Austria' 'Canada' 'Chile' 'New Zealand' 'Italy'\n",
            " 'Australia' 'South Africa' 'Romania' 'Moldova' 'Portugal'\n",
            " 'Czech Republic' 'Serbia' 'Spain' 'Slovenia' 'Argentina' 'Bulgaria'\n",
            " 'Israel' 'Luxembourg']\n",
            "21\n",
            "####\n",
            "Rosé\n",
            "['US' 'France' 'Portugal' 'Austria' 'Italy' 'Spain' 'Chile' 'Argentina'\n",
            " 'New Zealand' 'Greece' 'South Africa' 'Israel' 'Australia' 'Germany'\n",
            " 'Mexico' 'Canada' 'Romania' 'Moldova' 'Hungary' 'Slovenia' 'Lebanon'\n",
            " 'Bulgaria' 'Turkey' 'Ukraine' 'Uruguay' 'Georgia' 'Croatia']\n",
            "27\n",
            "####\n",
            "Sangiovese\n",
            "['Italy' 'US' 'Argentina' 'Israel' 'Australia']\n",
            "5\n",
            "####\n",
            "Sauvignon Blanc\n",
            "['US' 'France' 'New Zealand' 'South Africa' 'Spain' 'Austria' 'Chile'\n",
            " 'Argentina' 'Israel' 'Portugal' 'Mexico' 'Australia' 'Bulgaria' 'Italy'\n",
            " 'Greece' 'Romania' 'Turkey' 'Morocco' 'Uruguay' 'Croatia' 'Canada'\n",
            " 'Slovenia' 'Peru' 'Moldova' 'Czech Republic' 'India']\n",
            "26\n",
            "####\n",
            "Sparkling Blend\n",
            "['Spain' 'Portugal' 'Australia' 'US' 'Italy' 'France' 'New Zealand'\n",
            " 'Brazil' 'Austria' 'England' 'Argentina' 'South Africa' 'Ukraine'\n",
            " 'Georgia' 'Germany' 'Chile' 'Peru' 'Luxembourg' 'Israel' 'Hungary']\n",
            "20\n",
            "####\n",
            "Syrah\n",
            "['New Zealand' 'US' 'France' 'Chile' 'South Africa' 'Argentina' 'Spain'\n",
            " 'Italy' 'Israel' 'Portugal' 'Canada' 'Greece' 'Australia' 'Bulgaria'\n",
            " 'Peru' 'Austria' 'Hungary' 'Morocco' 'Turkey' 'Mexico']\n",
            "20\n",
            "####\n",
            "Tempranillo\n",
            "['Spain' 'US' 'Argentina' 'Australia' 'Italy' 'Israel' 'Mexico' 'Chile']\n",
            "8\n",
            "####\n",
            "White Blend\n",
            "['Italy' 'Greece' 'Austria' 'US' 'Spain' 'South Africa' 'France'\n",
            " 'Argentina' 'Portugal' 'Hungary' 'Georgia' 'Israel' 'Slovenia' 'Turkey'\n",
            " 'Peru' 'Australia' 'Lebanon' 'Morocco' 'Bulgaria' 'Romania' 'Chile'\n",
            " 'Moldova' 'Canada' 'Cyprus' 'England' 'Macedonia' 'Croatia' 'Germany'\n",
            " 'Uruguay' 'Luxembourg' 'Mexico' 'Switzerland']\n",
            "32\n",
            "####\n",
            "Zinfandel\n",
            "['US' 'Australia']\n",
            "2\n",
            "####\n"
          ],
          "name": "stdout"
        }
      ]
    },
    {
      "cell_type": "markdown",
      "metadata": {
        "id": "uvZ07-1plkLF",
        "colab_type": "text"
      },
      "source": [
        "clearly a single variety of wine is not indigeneous to a country , they are produced in more than one country "
      ]
    },
    {
      "cell_type": "markdown",
      "metadata": {
        "id": "P8wC0DjPj2Uc",
        "colab_type": "text"
      },
      "source": [
        "**DEEP LEARNING MODEL**"
      ]
    },
    {
      "cell_type": "code",
      "metadata": {
        "id": "yMQhM65NkOAN",
        "colab_type": "code",
        "outputId": "387018b7-64df-4e80-ff30-541103c379bf",
        "colab": {
          "base_uri": "https://localhost:8080/",
          "height": 82
        }
      },
      "source": [
        "from keras.preprocessing.sequence import pad_sequences\n",
        "import nltk\n",
        "from nltk.corpus import stopwords\n",
        "from nltk.tokenize import word_tokenize\n",
        "import re\n",
        "from keras.preprocessing.text import Tokenizer\n",
        "nltk.download('stopwords')\n",
        "nltk.download('punkt')\n",
        "stopW = set(stopwords.words('english'))\n",
        "from keras.utils import to_categorical\n",
        "import matplotlib.pyplot as plt"
      ],
      "execution_count": 0,
      "outputs": [
        {
          "output_type": "stream",
          "text": [
            "[nltk_data] Downloading package stopwords to /root/nltk_data...\n",
            "[nltk_data]   Unzipping corpora/stopwords.zip.\n",
            "[nltk_data] Downloading package punkt to /root/nltk_data...\n",
            "[nltk_data]   Unzipping tokenizers/punkt.zip.\n"
          ],
          "name": "stdout"
        }
      ]
    },
    {
      "cell_type": "code",
      "metadata": {
        "id": "-NAbW497iWF-",
        "colab_type": "code",
        "colab": {}
      },
      "source": [
        "def processData(text):\n",
        "  text = text.lower()\n",
        "  text = re.sub(r'[^\\w\\s]','',text) # removing preposition\n",
        "  token = word_tokenize(text)\n",
        "  token_stop = [w for w in token if w not in stopW]\n",
        "\n",
        "  return \" \".join(token_stop)\n"
      ],
      "execution_count": 0,
      "outputs": []
    },
    {
      "cell_type": "code",
      "metadata": {
        "id": "VrSO1XNcqmU6",
        "colab_type": "code",
        "outputId": "a5edad08-9615-490e-ce2f-bc8981281af3",
        "colab": {
          "base_uri": "https://localhost:8080/",
          "height": 115
        }
      },
      "source": [
        "\n",
        "\n",
        "df_feature['review_cleaned'] = df_feature['review_description'].apply(lambda x: processData(x)  )"
      ],
      "execution_count": 0,
      "outputs": [
        {
          "output_type": "stream",
          "text": [
            "/usr/local/lib/python3.6/dist-packages/ipykernel_launcher.py:3: SettingWithCopyWarning: \n",
            "A value is trying to be set on a copy of a slice from a DataFrame.\n",
            "Try using .loc[row_indexer,col_indexer] = value instead\n",
            "\n",
            "See the caveats in the documentation: https://pandas.pydata.org/pandas-docs/stable/user_guide/indexing.html#returning-a-view-versus-a-copy\n",
            "  This is separate from the ipykernel package so we can avoid doing imports until\n"
          ],
          "name": "stderr"
        }
      ]
    },
    {
      "cell_type": "code",
      "metadata": {
        "id": "BjgD5tAt38mX",
        "colab_type": "code",
        "outputId": "ffc51cb8-1140-4143-e340-7a9c6d813bfd",
        "colab": {
          "base_uri": "https://localhost:8080/",
          "height": 33
        }
      },
      "source": [
        "print(df_feature.shape)"
      ],
      "execution_count": 0,
      "outputs": [
        {
          "output_type": "stream",
          "text": [
            "(82657, 6)\n"
          ],
          "name": "stdout"
        }
      ]
    },
    {
      "cell_type": "markdown",
      "metadata": {
        "id": "KpX0h4mX1O8-",
        "colab_type": "text"
      },
      "source": [
        "# **TOKENIZATION AND PADDING**"
      ]
    },
    {
      "cell_type": "code",
      "metadata": {
        "id": "c9T7T8PPR_Fz",
        "colab_type": "code",
        "colab": {}
      },
      "source": [
        "X_reviews = df_feature['review_cleaned']"
      ],
      "execution_count": 0,
      "outputs": []
    },
    {
      "cell_type": "code",
      "metadata": {
        "id": "TaeAo5jevmiJ",
        "colab_type": "code",
        "colab": {}
      },
      "source": [
        "tokenize = Tokenizer(num_words=5000)\n",
        "tokenize.fit_on_texts(list(X_reviews))\n",
        "tokeized_text = tokenize.texts_to_sequences(list(X_reviews))"
      ],
      "execution_count": 0,
      "outputs": []
    },
    {
      "cell_type": "code",
      "metadata": {
        "id": "xiIW1bb2-sal",
        "colab_type": "code",
        "colab": {}
      },
      "source": [
        "vocab=len(tokenize.word_index)+1"
      ],
      "execution_count": 0,
      "outputs": []
    },
    {
      "cell_type": "code",
      "metadata": {
        "id": "_ItoZC9i3ATT",
        "colab_type": "code",
        "colab": {}
      },
      "source": [
        "maxlen = 50\n",
        "x_rev = pad_sequences(tokeized_text , maxlen= maxlen)"
      ],
      "execution_count": 0,
      "outputs": []
    },
    {
      "cell_type": "code",
      "metadata": {
        "id": "XQk2Xsr36THp",
        "colab_type": "code",
        "outputId": "41aad43d-f048-46be-91fc-2f853d39deb8",
        "colab": {
          "base_uri": "https://localhost:8080/",
          "height": 33
        }
      },
      "source": [
        "x_rev.shape"
      ],
      "execution_count": 0,
      "outputs": [
        {
          "output_type": "execute_result",
          "data": {
            "text/plain": [
              "(82657, 50)"
            ]
          },
          "metadata": {
            "tags": []
          },
          "execution_count": 19
        }
      ]
    },
    {
      "cell_type": "markdown",
      "metadata": {
        "id": "E4G1Hu7Q-1Tc",
        "colab_type": "text"
      },
      "source": [
        "**Categorical Data**"
      ]
    },
    {
      "cell_type": "code",
      "metadata": {
        "id": "QK0aXKBi-0Oj",
        "colab_type": "code",
        "colab": {}
      },
      "source": [
        "from sklearn import preprocessing\n",
        "import numpy as np"
      ],
      "execution_count": 0,
      "outputs": []
    },
    {
      "cell_type": "code",
      "metadata": {
        "id": "wa5hzW7h6fEK",
        "colab_type": "code",
        "colab": {}
      },
      "source": [
        "label_win = preprocessing.LabelEncoder() \n",
        "label_var = preprocessing.LabelEncoder()\n",
        "label_pro = preprocessing.LabelEncoder()\n"
      ],
      "execution_count": 0,
      "outputs": []
    },
    {
      "cell_type": "code",
      "metadata": {
        "id": "fhelL_Sb7kX3",
        "colab_type": "code",
        "outputId": "af2b2d3f-f660-4e7a-9488-7d8b641139ed",
        "colab": {
          "base_uri": "https://localhost:8080/",
          "height": 33
        }
      },
      "source": [
        "label_win.fit(df_feature['winery'])\n",
        "label_var.fit(df_feature['variety'])\n",
        "label_pro.fit(df_feature['province'])"
      ],
      "execution_count": 0,
      "outputs": [
        {
          "output_type": "execute_result",
          "data": {
            "text/plain": [
              "LabelEncoder()"
            ]
          },
          "metadata": {
            "tags": []
          },
          "execution_count": 22
        }
      ]
    },
    {
      "cell_type": "code",
      "metadata": {
        "id": "r0DI5RmRWW73",
        "colab_type": "code",
        "outputId": "22be51c7-62ef-45a2-9751-6d4b96f477f3",
        "colab": {
          "base_uri": "https://localhost:8080/",
          "height": 310
        }
      },
      "source": [
        "df_feature['label_win'] = label_win.transform(df_feature['winery'])\n",
        "df_feature['label_var'] = label_var.transform(df_feature['variety'])\n",
        "df_feature['label_pro'] = label_pro.transform(df_feature['province'])"
      ],
      "execution_count": 0,
      "outputs": [
        {
          "output_type": "stream",
          "text": [
            "/usr/local/lib/python3.6/dist-packages/ipykernel_launcher.py:1: SettingWithCopyWarning: \n",
            "A value is trying to be set on a copy of a slice from a DataFrame.\n",
            "Try using .loc[row_indexer,col_indexer] = value instead\n",
            "\n",
            "See the caveats in the documentation: https://pandas.pydata.org/pandas-docs/stable/user_guide/indexing.html#returning-a-view-versus-a-copy\n",
            "  \"\"\"Entry point for launching an IPython kernel.\n",
            "/usr/local/lib/python3.6/dist-packages/ipykernel_launcher.py:2: SettingWithCopyWarning: \n",
            "A value is trying to be set on a copy of a slice from a DataFrame.\n",
            "Try using .loc[row_indexer,col_indexer] = value instead\n",
            "\n",
            "See the caveats in the documentation: https://pandas.pydata.org/pandas-docs/stable/user_guide/indexing.html#returning-a-view-versus-a-copy\n",
            "  \n",
            "/usr/local/lib/python3.6/dist-packages/ipykernel_launcher.py:3: SettingWithCopyWarning: \n",
            "A value is trying to be set on a copy of a slice from a DataFrame.\n",
            "Try using .loc[row_indexer,col_indexer] = value instead\n",
            "\n",
            "See the caveats in the documentation: https://pandas.pydata.org/pandas-docs/stable/user_guide/indexing.html#returning-a-view-versus-a-copy\n",
            "  This is separate from the ipykernel package so we can avoid doing imports until\n"
          ],
          "name": "stderr"
        }
      ]
    },
    {
      "cell_type": "code",
      "metadata": {
        "id": "5PBxzX54U4Wd",
        "colab_type": "code",
        "colab": {}
      },
      "source": [
        "classes = len(label_var.classes_)"
      ],
      "execution_count": 0,
      "outputs": []
    },
    {
      "cell_type": "code",
      "metadata": {
        "id": "Jwa3bHQyB70q",
        "colab_type": "code",
        "colab": {}
      },
      "source": [
        "y_var = to_categorical(list(df_feature['label_var']))\n",
        "x_win = to_categorical(list(df_feature['label_win']))\n",
        "x_pro = to_categorical(list(df_feature['label_pro']))"
      ],
      "execution_count": 0,
      "outputs": []
    },
    {
      "cell_type": "code",
      "metadata": {
        "id": "F2XOCmh5IUZ5",
        "colab_type": "code",
        "outputId": "0809f463-6b4d-4c50-bd0e-8cc8021e40be",
        "colab": {
          "base_uri": "https://localhost:8080/",
          "height": 33
        }
      },
      "source": [
        "print(y_var.shape, x_win.shape ,x_pro.shape )"
      ],
      "execution_count": 0,
      "outputs": [
        {
          "output_type": "stream",
          "text": [
            "(82657, 29) (82657, 13777) (82657, 359)\n"
          ],
          "name": "stdout"
        }
      ]
    },
    {
      "cell_type": "markdown",
      "metadata": {
        "id": "OJX7NUoI3xdo",
        "colab_type": "text"
      },
      "source": [
        "#**MODEL PREPARATION**"
      ]
    },
    {
      "cell_type": "code",
      "metadata": {
        "id": "4OPezAGmVYT1",
        "colab_type": "code",
        "colab": {}
      },
      "source": [
        "\n",
        "from keras.layers import Dense, Input, LSTM, Embedding, Dropout, Activation,Flatten,concatenate\n",
        "from keras.layers import Bidirectional, GlobalMaxPool1D\n",
        "from keras.models import Model\n",
        "import keras\n",
        "from keras.layers import BatchNormalization"
      ],
      "execution_count": 0,
      "outputs": []
    },
    {
      "cell_type": "code",
      "metadata": {
        "id": "F_sAHvLE5xms",
        "colab_type": "code",
        "colab": {}
      },
      "source": [
        "def rnn(maxlen):\n",
        "  inp = Input(shape=(maxlen, ))\n",
        "  embed_size = 512\n",
        "  x = Embedding(vocab,embed_size , trainable=True)(inp)\n",
        "  x = Bidirectional(LSTM(100  , return_sequences=True))(x)\n",
        "  x = Dropout(0.2)(x)\n",
        "  x = BatchNormalization()(x)\n",
        "  #x = GlobalMaxPool1D()(x)\n",
        "  x = Dense(64 ,activation=\"relu\")(x)\n",
        "  x = Dropout(0.4)(x)\n",
        "  x = (Flatten())(x)\n",
        "  x = Dense(64 , activation='relu')(x)\n",
        "  #x=Activation('relu')\n",
        "  x = BatchNormalization(axis=-1)(x)\n",
        "  x = Dropout(0.4)(x)\n",
        "  #x = Dense(64)\n",
        "\n",
        "  model = Model(inputs=inp, outputs=x)\n",
        "  return model"
      ],
      "execution_count": 0,
      "outputs": []
    },
    {
      "cell_type": "code",
      "metadata": {
        "id": "joWnsO-65xws",
        "colab_type": "code",
        "colab": {}
      },
      "source": [
        "def mlp0(dim ,first_unit = 1024):\n",
        "  inp = Input(shape=(dim,))\n",
        "  x = Dense(first_unit ,activation=\"relu\")(inp)\n",
        "  x = Dropout(0.4)(x)\n",
        "  x = Dense(512 , activation='relu')(x)\n",
        "  x = BatchNormalization(axis=-1)(x)\n",
        "  x = Dropout(0.3)(x)\n",
        "  x = Dense(128 ,activation='relu')(x)\n",
        "  x=Dense(64 , activation = 'relu')(x)\n",
        "  x = BatchNormalization(axis=-1)(x)\n",
        "  x = Dropout(0.4)(x)\n",
        "\n",
        "  model = Model(inp,x)\n",
        "\n",
        "  return model\n"
      ],
      "execution_count": 0,
      "outputs": []
    },
    {
      "cell_type": "code",
      "metadata": {
        "id": "b2_iTn3-WTzw",
        "colab_type": "code",
        "colab": {}
      },
      "source": [
        "model_rnn = rnn(maxlen)\n",
        "model_mlp = mlp0(x_win.shape[1] , 1024)\n",
        "model_mlp1 = mlp0(x_pro.shape[1] , 512)\n",
        "combined_inp = concatenate([model_rnn.output,model_mlp1.output,model_mlp.output])\n",
        "x = Dense(32 , activation='relu')(combined_inp)\n",
        "x = Dense(classes , activation='softmax')(x)\n",
        "model = Model(inputs=[model_rnn.input, model_mlp1.input,model_mlp.input], outputs=x)"
      ],
      "execution_count": 0,
      "outputs": []
    },
    {
      "cell_type": "code",
      "metadata": {
        "id": "rGTPQm-Nc69c",
        "colab_type": "code",
        "outputId": "d23aec3e-e9a9-42e2-81bd-7f356d386f9a",
        "colab": {
          "base_uri": "https://localhost:8080/",
          "height": 216
        }
      },
      "source": [
        "opt = keras.optimizers.Adam(lr=1e-3)\n",
        "model.compile(loss=\"categorical_crossentropy\", optimizer=opt , metrics = ['accuracy'])\n",
        "\n",
        "\n",
        "batch_size = 64\n",
        "epochs = 4\n",
        "his=model.fit([x_rev,x_pro,x_win],y_var, batch_size=batch_size, epochs=epochs, validation_split=0.1)"
      ],
      "execution_count": 0,
      "outputs": [
        {
          "output_type": "stream",
          "text": [
            "/usr/local/lib/python3.6/dist-packages/tensorflow/python/framework/indexed_slices.py:434: UserWarning: Converting sparse IndexedSlices to a dense Tensor of unknown shape. This may consume a large amount of memory.\n",
            "  \"Converting sparse IndexedSlices to a dense Tensor of unknown shape. \"\n"
          ],
          "name": "stderr"
        },
        {
          "output_type": "stream",
          "text": [
            "Train on 74391 samples, validate on 8266 samples\n",
            "Epoch 1/4\n",
            "74391/74391 [==============================] - 181s 2ms/step - loss: 1.3219 - accuracy: 0.6143 - val_loss: 0.7388 - val_accuracy: 0.7735\n",
            "Epoch 2/4\n",
            "74391/74391 [==============================] - 178s 2ms/step - loss: 0.7311 - accuracy: 0.7787 - val_loss: 0.6294 - val_accuracy: 0.8069\n",
            "Epoch 3/4\n",
            "74391/74391 [==============================] - 176s 2ms/step - loss: 0.5629 - accuracy: 0.8256 - val_loss: 0.6221 - val_accuracy: 0.8119\n",
            "Epoch 4/4\n",
            "74391/74391 [==============================] - 176s 2ms/step - loss: 0.4595 - accuracy: 0.8573 - val_loss: 0.6230 - val_accuracy: 0.8178\n"
          ],
          "name": "stdout"
        }
      ]
    },
    {
      "cell_type": "code",
      "metadata": {
        "id": "AHF5NHW9dYqU",
        "colab_type": "code",
        "colab": {}
      },
      "source": [
        "model.save('drive/My Drive/knight/model_data/model_wine.h5')"
      ],
      "execution_count": 0,
      "outputs": []
    },
    {
      "cell_type": "code",
      "metadata": {
        "id": "0tmjGEdr4T58",
        "colab_type": "code",
        "outputId": "4f060556-a1f3-4982-f583-3e05bf53cbd9",
        "colab": {
          "base_uri": "https://localhost:8080/",
          "height": 311
        }
      },
      "source": [
        "plt.plot(his.history['accuracy'])\n",
        "plt.plot(his.history['val_accuracy'])\n",
        "plt.title('model accuracy')\n",
        "plt.ylabel('accuracy')\n",
        "plt.xlabel('epoch')\n",
        "plt.legend(['train', 'val'], loc='upper left')\n",
        "plt.show()\n",
        "plt.savefig('drive/My Drive/knight/model_data/accuracy.png')"
      ],
      "execution_count": 0,
      "outputs": [
        {
          "output_type": "display_data",
          "data": {
            "image/png": "[encoded data removed]",
            "text/plain": [
              "<Figure size 432x288 with 1 Axes>"
            ]
          },
          "metadata": {
            "tags": [],
            "needs_background": "light"
          }
        },
        {
          "output_type": "display_data",
          "data": {
            "text/plain": [
              "<Figure size 432x288 with 0 Axes>"
            ]
          },
          "metadata": {
            "tags": []
          }
        }
      ]
    },
    {
      "cell_type": "code",
      "metadata": {
        "id": "qVvHRrPP5R1Z",
        "colab_type": "code",
        "outputId": "f6f7a112-2aab-443f-b0d1-7c828875963c",
        "colab": {
          "base_uri": "https://localhost:8080/",
          "height": 311
        }
      },
      "source": [
        "plt.plot(his.history['loss'])\n",
        "plt.plot(his.history['val_loss'])\n",
        "plt.title('model loss')\n",
        "plt.ylabel('loss')\n",
        "plt.xlabel('epoch')\n",
        "plt.legend(['train', 'val'], loc='upper left')\n",
        "plt.show()\n",
        "plt.savefig('drive/My Drive/knight/model_data/loss.png')"
      ],
      "execution_count": 0,
      "outputs": [
        {
          "output_type": "display_data",
          "data": {
            "image/png": "[encoded data removed]",
            "text/plain": [
              "<Figure size 432x288 with 1 Axes>"
            ]
          },
          "metadata": {
            "tags": [],
            "needs_background": "light"
          }
        },
        {
          "output_type": "display_data",
          "data": {
            "text/plain": [
              "<Figure size 432x288 with 0 Axes>"
            ]
          },
          "metadata": {
            "tags": []
          }
        }
      ]
    },
    {
      "cell_type": "markdown",
      "metadata": {
        "id": "-neT8jrF3l4o",
        "colab_type": "text"
      },
      "source": [
        "#**PICKLE DATA**"
      ]
    },
    {
      "cell_type": "code",
      "metadata": {
        "id": "b1iznVD5Kf1m",
        "colab_type": "code",
        "colab": {}
      },
      "source": [
        "import pickle\n"
      ],
      "execution_count": 0,
      "outputs": []
    },
    {
      "cell_type": "code",
      "metadata": {
        "id": "Ri0pw8IE2M1Y",
        "colab_type": "code",
        "colab": {}
      },
      "source": [
        "def picklee(path, file ):\n",
        "  with open(path,'wb') as f:\n",
        "    pickle.dump(file,f)"
      ],
      "execution_count": 0,
      "outputs": []
    },
    {
      "cell_type": "code",
      "metadata": {
        "id": "QsLW-cC52htR",
        "colab_type": "code",
        "colab": {}
      },
      "source": [
        "picklee('drive/My Drive/knight/model_data/variety.pkl' , label_var)\n",
        "picklee('drive/My Drive/knight/model_data/winery.pkl' , label_win)\n",
        "picklee('drive/My Drive/knight/model_data/province.pkl' , label_pro)"
      ],
      "execution_count": 0,
      "outputs": []
    },
    {
      "cell_type": "code",
      "metadata": {
        "id": "y_xZPI1w3KtN",
        "colab_type": "code",
        "colab": {}
      },
      "source": [
        "with open('drive/My Drive/knight/model_data/tokenizer.pickle', 'wb') as handle:\n",
        "    pickle.dump(tokenize, handle, protocol=pickle.HIGHEST_PROTOCOL)"
      ],
      "execution_count": 0,
      "outputs": []
    },
    {
      "cell_type": "markdown",
      "metadata": {
        "id": "AQDDMPle39DN",
        "colab_type": "text"
      },
      "source": [
        "#**PREDICTION ON TEST DATA**"
      ]
    },
    {
      "cell_type": "code",
      "metadata": {
        "id": "CXuyINbU3c7d",
        "colab_type": "code",
        "colab": {}
      },
      "source": [
        "from keras.models import load_model\n",
        "df_test = pd.read_csv('drive/My Drive/knight/Data/test.csv')"
      ],
      "execution_count": 0,
      "outputs": []
    },
    {
      "cell_type": "code",
      "metadata": {
        "id": "lXecGMJh8A_v",
        "colab_type": "code",
        "outputId": "9da5354c-f4d3-4cba-ddb0-4d4b884851db",
        "colab": {
          "base_uri": "https://localhost:8080/",
          "height": 33
        }
      },
      "source": [
        "df_test.shape"
      ],
      "execution_count": 0,
      "outputs": [
        {
          "output_type": "execute_result",
          "data": {
            "text/plain": [
              "(20665, 11)"
            ]
          },
          "metadata": {
            "tags": []
          },
          "execution_count": 55
        }
      ]
    },
    {
      "cell_type": "code",
      "metadata": {
        "id": "gAi6_JVP8Fxw",
        "colab_type": "code",
        "outputId": "4fe8e24a-e7a3-4359-f6ae-3ffcafed767c",
        "colab": {
          "base_uri": "https://localhost:8080/",
          "height": 212
        }
      },
      "source": [
        "df_test.isnull().sum()"
      ],
      "execution_count": 0,
      "outputs": [
        {
          "output_type": "execute_result",
          "data": {
            "text/plain": [
              "user_name              4738\n",
              "country                   4\n",
              "review_title              0\n",
              "review_description        0\n",
              "designation            5989\n",
              "points                    0\n",
              "price                  1394\n",
              "province                  4\n",
              "region_1               3314\n",
              "region_2              11751\n",
              "winery                    0\n",
              "dtype: int64"
            ]
          },
          "metadata": {
            "tags": []
          },
          "execution_count": 40
        }
      ]
    },
    {
      "cell_type": "markdown",
      "metadata": {
        "id": "1H6EGgPH8_1e",
        "colab_type": "text"
      },
      "source": [
        "**clearly 4 wine type don't have province details so i'll drop them from predicition**"
      ]
    },
    {
      "cell_type": "code",
      "metadata": {
        "id": "wWUsGuM-8uo5",
        "colab_type": "code",
        "colab": {}
      },
      "source": [
        "df_prediction = df_test[['review_description' , 'province' ,  'winery']] ## selecting features for prediction"
      ],
      "execution_count": 0,
      "outputs": []
    },
    {
      "cell_type": "code",
      "metadata": {
        "id": "C7wM-AofBvcb",
        "colab_type": "code",
        "outputId": "4712ba8e-7f0a-4378-ef20-e8290cb34b42",
        "colab": {
          "base_uri": "https://localhost:8080/",
          "height": 212
        }
      },
      "source": [
        "\n",
        "  # for labels of province and winery which are not in training dataset but in test dataset , I'll be replacing such values with unknown token.\n",
        "\n",
        "df_prediction['winery'] = df_prediction['winery'].map(lambda s: \"<UNK>\" if s not in label_win.classes_ else s)\n",
        "df_prediction['province'] = df_prediction['province'].map(lambda s: \"<UNK>\" if s not in label_pro.classes_ else s)\n"
      ],
      "execution_count": 0,
      "outputs": [
        {
          "output_type": "stream",
          "text": [
            "/usr/local/lib/python3.6/dist-packages/ipykernel_launcher.py:4: SettingWithCopyWarning: \n",
            "A value is trying to be set on a copy of a slice from a DataFrame.\n",
            "Try using .loc[row_indexer,col_indexer] = value instead\n",
            "\n",
            "See the caveats in the documentation: https://pandas.pydata.org/pandas-docs/stable/user_guide/indexing.html#returning-a-view-versus-a-copy\n",
            "  after removing the cwd from sys.path.\n",
            "/usr/local/lib/python3.6/dist-packages/ipykernel_launcher.py:5: SettingWithCopyWarning: \n",
            "A value is trying to be set on a copy of a slice from a DataFrame.\n",
            "Try using .loc[row_indexer,col_indexer] = value instead\n",
            "\n",
            "See the caveats in the documentation: https://pandas.pydata.org/pandas-docs/stable/user_guide/indexing.html#returning-a-view-versus-a-copy\n",
            "  \"\"\"\n"
          ],
          "name": "stderr"
        }
      ]
    },
    {
      "cell_type": "code",
      "metadata": {
        "id": "GzDRydzamnFE",
        "colab_type": "code",
        "colab": {}
      },
      "source": [
        "x__win = to_categorical(label_win.transform(df_prediction['winery']))\n",
        "x__pro = to_categorical(label_pro.transform(df_prediction['province']))"
      ],
      "execution_count": 0,
      "outputs": []
    },
    {
      "cell_type": "code",
      "metadata": {
        "id": "9AfVDyt7lz4Z",
        "colab_type": "code",
        "outputId": "eab00721-6ff8-4fb3-e1e3-8e2274ee709c",
        "colab": {
          "base_uri": "https://localhost:8080/",
          "height": 115
        }
      },
      "source": [
        "df_prediction['review_cleaned'] = df_prediction['review_description'].apply(lambda x: processData(x))"
      ],
      "execution_count": 0,
      "outputs": [
        {
          "output_type": "stream",
          "text": [
            "/usr/local/lib/python3.6/dist-packages/ipykernel_launcher.py:1: SettingWithCopyWarning: \n",
            "A value is trying to be set on a copy of a slice from a DataFrame.\n",
            "Try using .loc[row_indexer,col_indexer] = value instead\n",
            "\n",
            "See the caveats in the documentation: https://pandas.pydata.org/pandas-docs/stable/user_guide/indexing.html#returning-a-view-versus-a-copy\n",
            "  \"\"\"Entry point for launching an IPython kernel.\n"
          ],
          "name": "stderr"
        }
      ]
    },
    {
      "cell_type": "code",
      "metadata": {
        "id": "nX8sT5peCNyV",
        "colab_type": "code",
        "colab": {}
      },
      "source": [
        "\n",
        "text = tokenize.texts_to_sequences(list(df_prediction['review_cleaned']))\n",
        "x__rev = pad_sequences(list(text) , maxlen=maxlen)\n",
        "\n"
      ],
      "execution_count": 0,
      "outputs": []
    },
    {
      "cell_type": "code",
      "metadata": {
        "id": "G6v4_KJD0ZR9",
        "colab_type": "code",
        "colab": {}
      },
      "source": [
        "pre = model.predict([x__rev , x__pro , x__win])"
      ],
      "execution_count": 0,
      "outputs": []
    },
    {
      "cell_type": "code",
      "metadata": {
        "id": "UWsIv74c0mYr",
        "colab_type": "code",
        "outputId": "704cfddf-8ee6-4dd9-a08e-3a4dd8fbcc39",
        "colab": {
          "base_uri": "https://localhost:8080/",
          "height": 33
        }
      },
      "source": [
        "np.argmax(pre[10])"
      ],
      "execution_count": 0,
      "outputs": [
        {
          "output_type": "execute_result",
          "data": {
            "text/plain": [
              "15"
            ]
          },
          "metadata": {
            "tags": []
          },
          "execution_count": 83
        }
      ]
    },
    {
      "cell_type": "code",
      "metadata": {
        "id": "GVwsmqTh2JKm",
        "colab_type": "code",
        "colab": {}
      },
      "source": [
        "prediction = []\n",
        "for i in pre:\n",
        "  maxx = np.argmax(i)\n",
        "  labe = label_var.inverse_transform([maxx])[0]\n",
        "  prediction.append(labe)"
      ],
      "execution_count": 0,
      "outputs": []
    },
    {
      "cell_type": "code",
      "metadata": {
        "id": "PaybrY5K2tm0",
        "colab_type": "code",
        "outputId": "ab2e1ffc-d43b-4f79-ce6f-be359b1ddcb4",
        "colab": {
          "base_uri": "https://localhost:8080/",
          "height": 115
        }
      },
      "source": [
        "df_prediction['variety_predicted'] = np.array(prediction)"
      ],
      "execution_count": 0,
      "outputs": [
        {
          "output_type": "stream",
          "text": [
            "/usr/local/lib/python3.6/dist-packages/ipykernel_launcher.py:1: SettingWithCopyWarning: \n",
            "A value is trying to be set on a copy of a slice from a DataFrame.\n",
            "Try using .loc[row_indexer,col_indexer] = value instead\n",
            "\n",
            "See the caveats in the documentation: https://pandas.pydata.org/pandas-docs/stable/user_guide/indexing.html#returning-a-view-versus-a-copy\n",
            "  \"\"\"Entry point for launching an IPython kernel.\n"
          ],
          "name": "stderr"
        }
      ]
    },
    {
      "cell_type": "code",
      "metadata": {
        "id": "SbTBs7AL3YFs",
        "colab_type": "code",
        "outputId": "6450d0eb-221d-4fa0-d085-7b7a31a6cdae",
        "colab": {
          "base_uri": "https://localhost:8080/",
          "height": 98
        }
      },
      "source": [
        "df_prediction.drop(labels='review_cleaned' ,axis = 1, inplace=True)"
      ],
      "execution_count": 0,
      "outputs": [
        {
          "output_type": "stream",
          "text": [
            "/usr/local/lib/python3.6/dist-packages/pandas/core/frame.py:3997: SettingWithCopyWarning: \n",
            "A value is trying to be set on a copy of a slice from a DataFrame\n",
            "\n",
            "See the caveats in the documentation: https://pandas.pydata.org/pandas-docs/stable/user_guide/indexing.html#returning-a-view-versus-a-copy\n",
            "  errors=errors,\n"
          ],
          "name": "stderr"
        }
      ]
    },
    {
      "cell_type": "code",
      "metadata": {
        "id": "FC9k4fYg5nCT",
        "colab_type": "code",
        "colab": {}
      },
      "source": [
        "df_prediction.to_csv('drive/My Drive/prediction.csv')"
      ],
      "execution_count": 0,
      "outputs": []
    },
    {
      "cell_type": "code",
      "metadata": {
        "id": "ApH6uunE59ny",
        "colab_type": "code",
        "colab": {}
      },
      "source": [
        ""
      ],
      "execution_count": 0,
      "outputs": []
    }
  ]
}